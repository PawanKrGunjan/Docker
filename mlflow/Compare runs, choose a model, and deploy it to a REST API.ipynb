{
 "cells": [
  {
   "cell_type": "code",
   "execution_count": 1,
   "id": "b28f1697-8ed6-47fb-a4a3-941c50829e91",
   "metadata": {},
   "outputs": [],
   "source": [
    "import keras\n",
    "import numpy as np\n",
    "import pandas as pd\n",
    "from hyperopt import STATUS_OK, Trials, fmin, hp, tpe\n",
    "from sklearn.metrics import mean_squared_error\n",
    "from sklearn.model_selection import train_test_split\n",
    "\n",
    "import mlflow\n",
    "from mlflow.models import infer_signature\n",
    "# mlflow server --host 127.0.0.1 --port 8080"
   ]
  },
  {
   "cell_type": "code",
   "execution_count": 2,
   "id": "d3fab261-4c73-40e1-9245-5270f35481ed",
   "metadata": {},
   "outputs": [],
   "source": [
    "# Set our tracking server uri for logging\n",
    "#export MLFLOW_TRACKING_URI=http://localhost:5000\n",
    "#mlflow.set_tracking_uri(uri=\"http://localhost:8080\")"
   ]
  },
  {
   "cell_type": "code",
   "execution_count": 3,
   "id": "647429eb-f357-4f70-8312-1eece9713127",
   "metadata": {},
   "outputs": [],
   "source": [
    "# Load dataset\n",
    "data = pd.read_csv(\n",
    "    \"https://raw.githubusercontent.com/mlflow/mlflow/master/tests/datasets/winequality-white.csv\",\n",
    "    sep=\";\",\n",
    ")\n",
    "\n",
    "# Split the data into training, validation, and test sets\n",
    "train, test = train_test_split(data, test_size=0.25, random_state=42)\n",
    "train_x = train.drop([\"quality\"], axis=1).values\n",
    "train_y = train[[\"quality\"]].values.ravel()\n",
    "test_x = test.drop([\"quality\"], axis=1).values\n",
    "test_y = test[[\"quality\"]].values.ravel()\n",
    "train_x, valid_x, train_y, valid_y = train_test_split(\n",
    "    train_x, train_y, test_size=0.2, random_state=42\n",
    ")"
   ]
  },
  {
   "cell_type": "code",
   "execution_count": 4,
   "id": "ab503947-a172-4c9a-974e-cb879da60709",
   "metadata": {},
   "outputs": [],
   "source": [
    "signature = infer_signature(train_x, train_y)"
   ]
  },
  {
   "cell_type": "code",
   "execution_count": 5,
   "id": "41327321-44dc-4ef6-9601-59bfcc7795f3",
   "metadata": {},
   "outputs": [],
   "source": [
    "def train_model(params, epochs, train_x, train_y, valid_x, valid_y, test_x, test_y):\n",
    "    # Define model architecture\n",
    "    mean = np.mean(train_x, axis=0)\n",
    "    var = np.var(train_x, axis=0)\n",
    "    model = keras.Sequential(\n",
    "        [\n",
    "            keras.Input([train_x.shape[1]]),\n",
    "            keras.layers.Normalization(mean=mean, variance=var),\n",
    "            keras.layers.Dense(64, activation=\"relu\"),\n",
    "            keras.layers.Dense(1),\n",
    "        ]\n",
    "    )\n",
    "\n",
    "    # Compile model\n",
    "    model.compile(\n",
    "        optimizer=keras.optimizers.SGD(\n",
    "            learning_rate=params[\"lr\"], momentum=params[\"momentum\"]\n",
    "        ),\n",
    "        loss=\"mean_squared_error\",\n",
    "        metrics=[keras.metrics.RootMeanSquaredError()],\n",
    "    )\n",
    "\n",
    "    # Train model with MLflow tracking\n",
    "    with mlflow.start_run(nested=True):\n",
    "        model.fit(\n",
    "            train_x,\n",
    "            train_y,\n",
    "            validation_data=(valid_x, valid_y),\n",
    "            epochs=epochs,\n",
    "            batch_size=64,\n",
    "        )\n",
    "        # Evaluate the model\n",
    "        eval_result = model.evaluate(valid_x, valid_y, batch_size=64)\n",
    "        eval_rmse = eval_result[1]\n",
    "\n",
    "        # Log parameters and results\n",
    "        mlflow.log_params(params)\n",
    "        mlflow.log_metric(\"eval_rmse\", eval_rmse)\n",
    "\n",
    "        # Log model\n",
    "        mlflow.tensorflow.log_model(model, \"model\", signature=signature)\n",
    "\n",
    "        return {\"loss\": eval_rmse, \"status\": STATUS_OK, \"model\": model}"
   ]
  },
  {
   "cell_type": "code",
   "execution_count": 6,
   "id": "502d0c9f-3b61-4279-b1d6-ac25f6e4d6ef",
   "metadata": {},
   "outputs": [],
   "source": [
    "def objective(params):\n",
    "    # MLflow will track the parameters and results for each run\n",
    "    result = train_model(\n",
    "        params,\n",
    "        epochs=3,\n",
    "        train_x=train_x,\n",
    "        train_y=train_y,\n",
    "        valid_x=valid_x,\n",
    "        valid_y=valid_y,\n",
    "        test_x=test_x,\n",
    "        test_y=test_y,\n",
    "    )\n",
    "    return result"
   ]
  },
  {
   "cell_type": "code",
   "execution_count": 7,
   "id": "c09b5fcb-d75d-4f43-aac7-470d7cd62ba2",
   "metadata": {},
   "outputs": [],
   "source": [
    "space = {\n",
    "    \"lr\": hp.loguniform(\"lr\", np.log(1e-5), np.log(1e-1)),\n",
    "    \"momentum\": hp.uniform(\"momentum\", 0.0, 1.0),\n",
    "}"
   ]
  },
  {
   "cell_type": "code",
   "execution_count": 8,
   "id": "6e3989e4-03f7-46f7-b94b-5dc26a7f6f08",
   "metadata": {},
   "outputs": [
    {
     "name": "stderr",
     "output_type": "stream",
     "text": [
      "2024/06/08 17:29:52 INFO mlflow.tracking.fluent: Experiment with name 'MLFLOW - Compare runs, choose a model, and deploy it to a REST API' does not exist. Creating a new experiment.\n",
      "2024/06/08 17:29:53 WARNING mlflow.utils.git_utils: Failed to import Git (the Git executable is probably not on your PATH), so Git SHA is not available. Error: Failed to initialize: Bad git executable.\n",
      "The git executable must be specified in one of the following ways:\n",
      "    - be included in your $PATH\n",
      "    - be set via $GIT_PYTHON_GIT_EXECUTABLE\n",
      "    - explicitly set via git.refresh(<full-path-to-git-executable>)\n",
      "\n",
      "All git commands will error until this is rectified.\n",
      "\n",
      "This initial message can be silenced or aggravated in the future by setting the\n",
      "$GIT_PYTHON_REFRESH environment variable. Use one of the following values:\n",
      "    - quiet|q|silence|s|silent|none|n|0: for no message or exception\n",
      "    - warn|w|warning|log|l|1: for a warning message (logging level CRITICAL, displayed by default)\n",
      "    - error|e|exception|raise|r|2: for a raised exception\n",
      "\n",
      "Example:\n",
      "    export GIT_PYTHON_REFRESH=quiet\n",
      "\n"
     ]
    },
    {
     "name": "stdout",
     "output_type": "stream",
     "text": [
      "Epoch 1/3                                                            \n",
      "\n",
      " 1/46 [..............................] - ETA: 53s - loss: 37.4349 - root_mean_squared_error: 6.1184\n",
      "17/46 [==========>...................] - ETA: 0s - loss: 22.3501 - root_mean_squared_error: 4.7276 \n",
      "32/46 [===================>..........] - ETA: 0s - loss: 14.8653 - root_mean_squared_error: 3.8556\n",
      "46/46 [==============================] - 2s 14ms/step - loss: 11.2378 - root_mean_squared_error: 3.3523 - val_loss: 2.3508 - val_root_mean_squared_error: 1.5332\n",
      "\n",
      "Epoch 2/3                                                            \n",
      "\n",
      " 1/46 [..............................] - ETA: 0s - loss: 2.2665 - root_mean_squared_error: 1.5055\n",
      "19/46 [===========>..................] - ETA: 0s - loss: 2.1811 - root_mean_squared_error: 1.4769\n",
      "39/46 [========================>.....] - ETA: 0s - loss: 1.9669 - root_mean_squared_error: 1.4025\n",
      "46/46 [==============================] - 0s 5ms/step - loss: 1.9782 - root_mean_squared_error: 1.4065 - val_loss: 1.7533 - val_root_mean_squared_error: 1.3241\n",
      "\n",
      "Epoch 3/3                                                            \n",
      "\n",
      " 1/46 [..............................] - ETA: 0s - loss: 1.5172 - root_mean_squared_error: 1.2317\n",
      "18/46 [==========>...................] - ETA: 0s - loss: 1.5757 - root_mean_squared_error: 1.2553\n",
      "36/46 [======================>.......] - ETA: 0s - loss: 1.5078 - root_mean_squared_error: 1.2279\n",
      "46/46 [==============================] - 0s 6ms/step - loss: 1.5594 - root_mean_squared_error: 1.2487 - val_loss: 1.4923 - val_root_mean_squared_error: 1.2216\n",
      "\n",
      " 1/12 [=>............................] - ETA: 0s - loss: 1.2838 - root_mean_squared_error: 1.1330\n",
      "12/12 [==============================] - 0s 4ms/step - loss: 1.4923 - root_mean_squared_error: 1.2216\n",
      "\n",
      "  0%|                          | 0/8 [00:03<?, ?trial/s, best loss=?]INFO:tensorflow:Assets written to: C:\\Users\\Pawan\\AppData\\Local\\Temp\\tmp9q398dyc\\model\\data\\model\\assets\n"
     ]
    },
    {
     "name": "stderr",
     "output_type": "stream",
     "text": [
      "INFO:tensorflow:Assets written to: C:\\Users\\Pawan\\AppData\\Local\\Temp\\tmp9q398dyc\\model\\data\\model\\assets\n",
      "\n"
     ]
    },
    {
     "name": "stdout",
     "output_type": "stream",
     "text": [
      "Epoch 1/3                                                            \n",
      "\n",
      " 1/46 [..............................] - ETA: 34s - loss: 35.7632 - root_mean_squared_error: 5.9802\n",
      "18/46 [==========>...................] - ETA: 0s - loss: 34.9156 - root_mean_squared_error: 5.9089 \n",
      "37/46 [=======================>......] - ETA: 0s - loss: 34.4496 - root_mean_squared_error: 5.8694\n",
      "46/46 [==============================] - 1s 11ms/step - loss: 34.2417 - root_mean_squared_error: 5.8516 - val_loss: 32.8088 - val_root_mean_squared_error: 5.7279\n",
      "\n",
      "Epoch 2/3                                                            \n",
      "\n",
      " 1/46 [..............................] - ETA: 0s - loss: 34.3390 - root_mean_squared_error: 5.8599\n",
      "18/46 [==========>...................] - ETA: 0s - loss: 32.0323 - root_mean_squared_error: 5.6597\n",
      "37/46 [=======================>......] - ETA: 0s - loss: 31.5343 - root_mean_squared_error: 5.6155\n",
      "46/46 [==============================] - 0s 5ms/step - loss: 31.1829 - root_mean_squared_error: 5.5842 - val_loss: 29.8681 - val_root_mean_squared_error: 5.4652\n",
      "\n",
      "Epoch 3/3                                                            \n",
      "\n",
      " 1/46 [..............................] - ETA: 0s - loss: 29.7133 - root_mean_squared_error: 5.4510\n",
      "19/46 [===========>..................] - ETA: 0s - loss: 29.2916 - root_mean_squared_error: 5.4122\n",
      "38/46 [=======================>......] - ETA: 0s - loss: 28.7384 - root_mean_squared_error: 5.3608\n",
      "46/46 [==============================] - 0s 5ms/step - loss: 28.4077 - root_mean_squared_error: 5.3299 - val_loss: 27.1944 - val_root_mean_squared_error: 5.2148\n",
      "\n",
      " 1/12 [=>............................] - ETA: 0s - loss: 27.9732 - root_mean_squared_error: 5.2890\n",
      "12/12 [==============================] - 0s 4ms/step - loss: 27.1944 - root_mean_squared_error: 5.2148\n",
      "\n",
      " 12%|▏| 1/8 [00:25<02:41, 23.12s/trial, best loss: 1.221590280532837]INFO:tensorflow:Assets written to: C:\\Users\\Pawan\\AppData\\Local\\Temp\\tmppxylgmec\\model\\data\\model\\assets\n"
     ]
    },
    {
     "name": "stderr",
     "output_type": "stream",
     "text": [
      "INFO:tensorflow:Assets written to: C:\\Users\\Pawan\\AppData\\Local\\Temp\\tmppxylgmec\\model\\data\\model\\assets\n",
      "\n"
     ]
    },
    {
     "name": "stdout",
     "output_type": "stream",
     "text": [
      "Epoch 1/3                                                            \n",
      "\n",
      " 1/46 [..............................] - ETA: 33s - loss: 32.6806 - root_mean_squared_error: 5.7167\n",
      "14/46 [========>.....................] - ETA: 0s - loss: 18.5018 - root_mean_squared_error: 4.3014 \n",
      "30/46 [==================>...........] - ETA: 0s - loss: 10.4457 - root_mean_squared_error: 3.2320\n",
      "46/46 [==============================] - 1s 12ms/step - loss: 7.5168 - root_mean_squared_error: 2.7417 - val_loss: 2.1315 - val_root_mean_squared_error: 1.4600\n",
      "\n",
      "Epoch 2/3                                                            \n",
      "\n",
      " 1/46 [..............................] - ETA: 0s - loss: 1.7918 - root_mean_squared_error: 1.3386\n",
      "15/46 [========>.....................] - ETA: 0s - loss: 2.1381 - root_mean_squared_error: 1.4622\n",
      "34/46 [=====================>........] - ETA: 0s - loss: 1.8214 - root_mean_squared_error: 1.3496\n",
      "46/46 [==============================] - 0s 6ms/step - loss: 1.7144 - root_mean_squared_error: 1.3094 - val_loss: 1.6378 - val_root_mean_squared_error: 1.2798\n",
      "\n",
      "Epoch 3/3                                                            \n",
      "\n",
      " 1/46 [..............................] - ETA: 0s - loss: 1.7045 - root_mean_squared_error: 1.3056\n",
      "14/46 [========>.....................] - ETA: 0s - loss: 1.3782 - root_mean_squared_error: 1.1740\n",
      "29/46 [=================>............] - ETA: 0s - loss: 1.3689 - root_mean_squared_error: 1.1700\n",
      "46/46 [==============================] - 0s 6ms/step - loss: 1.3578 - root_mean_squared_error: 1.1652 - val_loss: 1.3606 - val_root_mean_squared_error: 1.1665\n",
      "\n",
      " 1/12 [=>............................] - ETA: 0s - loss: 1.3332 - root_mean_squared_error: 1.1546\n",
      "12/12 [==============================] - 0s 3ms/step - loss: 1.3606 - root_mean_squared_error: 1.1665\n",
      "\n",
      " 25%|▎| 2/8 [00:42<01:58, 19.79s/trial, best loss: 1.221590280532837]INFO:tensorflow:Assets written to: C:\\Users\\Pawan\\AppData\\Local\\Temp\\tmpfkmu46z_\\model\\data\\model\\assets\n"
     ]
    },
    {
     "name": "stderr",
     "output_type": "stream",
     "text": [
      "INFO:tensorflow:Assets written to: C:\\Users\\Pawan\\AppData\\Local\\Temp\\tmpfkmu46z_\\model\\data\\model\\assets\n",
      "\n"
     ]
    },
    {
     "name": "stdout",
     "output_type": "stream",
     "text": [
      "Epoch 1/3                                                            \n",
      "\n",
      " 1/46 [..............................] - ETA: 36s - loss: 36.8819 - root_mean_squared_error: 6.0730\n",
      "15/46 [========>.....................] - ETA: 0s - loss: 38.4292 - root_mean_squared_error: 6.1991 \n",
      "34/46 [=====================>........] - ETA: 0s - loss: 37.3503 - root_mean_squared_error: 6.1115\n",
      "46/46 [==============================] - 1s 12ms/step - loss: 37.2043 - root_mean_squared_error: 6.0995 - val_loss: 36.1661 - val_root_mean_squared_error: 6.0138\n",
      "\n",
      "Epoch 2/3                                                            \n",
      "\n",
      " 1/46 [..............................] - ETA: 0s - loss: 35.7170 - root_mean_squared_error: 5.9764\n",
      "14/46 [========>.....................] - ETA: 0s - loss: 34.9148 - root_mean_squared_error: 5.9089\n",
      "23/46 [==============>...............] - ETA: 0s - loss: 35.0422 - root_mean_squared_error: 5.9196\n",
      "38/46 [=======================>......] - ETA: 0s - loss: 34.8150 - root_mean_squared_error: 5.9004\n",
      "46/46 [==============================] - 0s 6ms/step - loss: 34.3619 - root_mean_squared_error: 5.8619 - val_loss: 33.4286 - val_root_mean_squared_error: 5.7817\n",
      "\n",
      "Epoch 3/3                                                            \n",
      "\n",
      " 1/46 [..............................] - ETA: 0s - loss: 29.7589 - root_mean_squared_error: 5.4552\n",
      "14/46 [========>.....................] - ETA: 0s - loss: 31.9754 - root_mean_squared_error: 5.6547\n",
      "25/46 [===============>..............] - ETA: 0s - loss: 31.9831 - root_mean_squared_error: 5.6554\n",
      "45/46 [============================>.] - ETA: 0s - loss: 31.6851 - root_mean_squared_error: 5.6290\n",
      "46/46 [==============================] - 0s 6ms/step - loss: 31.7473 - root_mean_squared_error: 5.6345 - val_loss: 30.9424 - val_root_mean_squared_error: 5.5626\n",
      "\n",
      " 1/12 [=>............................] - ETA: 0s - loss: 31.3528 - root_mean_squared_error: 5.5994\n",
      "12/12 [==============================] - 0s 4ms/step - loss: 30.9424 - root_mean_squared_error: 5.5626\n",
      "\n",
      " 38%|▍| 3/8 [01:00<01:34, 18.90s/trial, best loss: 1.1664674282073975INFO:tensorflow:Assets written to: C:\\Users\\Pawan\\AppData\\Local\\Temp\\tmp_trq5ag6\\model\\data\\model\\assets\n"
     ]
    },
    {
     "name": "stderr",
     "output_type": "stream",
     "text": [
      "INFO:tensorflow:Assets written to: C:\\Users\\Pawan\\AppData\\Local\\Temp\\tmp_trq5ag6\\model\\data\\model\\assets\n",
      "\n"
     ]
    },
    {
     "name": "stdout",
     "output_type": "stream",
     "text": [
      "Epoch 1/3                                                            \n",
      "\n",
      " 1/46 [..............................] - ETA: 34s - loss: 40.6559 - root_mean_squared_error: 6.3762\n",
      "15/46 [========>.....................] - ETA: 0s - loss: 7.1282 - root_mean_squared_error: 2.6699  \n",
      "32/46 [===================>..........] - ETA: 0s - loss: 4.0566 - root_mean_squared_error: 2.0141\n",
      "46/46 [==============================] - 1s 12ms/step - loss: 3.1738 - root_mean_squared_error: 1.7815 - val_loss: 1.0448 - val_root_mean_squared_error: 1.0222\n",
      "\n",
      "Epoch 2/3                                                            \n",
      "\n",
      " 1/46 [..............................] - ETA: 1s - loss: 1.2804 - root_mean_squared_error: 1.1315\n",
      "16/46 [=========>....................] - ETA: 0s - loss: 0.9469 - root_mean_squared_error: 0.9731\n",
      "35/46 [=====================>........] - ETA: 0s - loss: 0.8308 - root_mean_squared_error: 0.9115\n",
      "46/46 [==============================] - 0s 5ms/step - loss: 0.7919 - root_mean_squared_error: 0.8899 - val_loss: 0.6409 - val_root_mean_squared_error: 0.8005\n",
      "\n",
      "Epoch 3/3                                                            \n",
      "\n",
      " 1/46 [..............................] - ETA: 0s - loss: 0.4158 - root_mean_squared_error: 0.6449\n",
      "15/46 [========>.....................] - ETA: 0s - loss: 0.6453 - root_mean_squared_error: 0.8033\n",
      "31/46 [===================>..........] - ETA: 0s - loss: 0.6413 - root_mean_squared_error: 0.8008\n",
      "46/46 [==============================] - 0s 6ms/step - loss: 0.6179 - root_mean_squared_error: 0.7860 - val_loss: 0.5599 - val_root_mean_squared_error: 0.7482\n",
      "\n",
      " 1/12 [=>............................] - ETA: 0s - loss: 0.4952 - root_mean_squared_error: 0.7037\n",
      "12/12 [==============================] - 0s 3ms/step - loss: 0.5599 - root_mean_squared_error: 0.7482\n",
      "\n",
      " 50%|▌| 4/8 [01:19<01:15, 18.86s/trial, best loss: 1.1664674282073975INFO:tensorflow:Assets written to: C:\\Users\\Pawan\\AppData\\Local\\Temp\\tmp_t6i7vmz\\model\\data\\model\\assets\n"
     ]
    },
    {
     "name": "stderr",
     "output_type": "stream",
     "text": [
      "INFO:tensorflow:Assets written to: C:\\Users\\Pawan\\AppData\\Local\\Temp\\tmp_t6i7vmz\\model\\data\\model\\assets\n",
      "\n"
     ]
    },
    {
     "name": "stdout",
     "output_type": "stream",
     "text": [
      "Epoch 1/3                                                            \n",
      "\n",
      " 1/46 [..............................] - ETA: 35s - loss: 27.4683 - root_mean_squared_error: 5.2410\n",
      "15/46 [========>.....................] - ETA: 0s - loss: 4.0263 - root_mean_squared_error: 2.0066  \n",
      "32/46 [===================>..........] - ETA: 0s - loss: 2.3791 - root_mean_squared_error: 1.5424\n",
      "46/46 [==============================] - 1s 12ms/step - loss: 1.8963 - root_mean_squared_error: 1.3771 - val_loss: 0.7152 - val_root_mean_squared_error: 0.8457\n",
      "\n",
      "Epoch 2/3                                                            \n",
      "\n",
      " 1/46 [..............................] - ETA: 0s - loss: 0.9338 - root_mean_squared_error: 0.9663\n",
      "16/46 [=========>....................] - ETA: 0s - loss: 0.6470 - root_mean_squared_error: 0.8044\n",
      "30/46 [==================>...........] - ETA: 0s - loss: 0.6638 - root_mean_squared_error: 0.8148\n",
      "42/46 [==========================>...] - ETA: 0s - loss: 0.6386 - root_mean_squared_error: 0.7991\n",
      "46/46 [==============================] - 0s 6ms/step - loss: 0.6398 - root_mean_squared_error: 0.7999 - val_loss: 0.6062 - val_root_mean_squared_error: 0.7786\n",
      "\n",
      "Epoch 3/3                                                            \n",
      "\n",
      " 1/46 [..............................] - ETA: 0s - loss: 0.5182 - root_mean_squared_error: 0.7199\n",
      "15/46 [========>.....................] - ETA: 0s - loss: 0.6147 - root_mean_squared_error: 0.7840\n",
      "35/46 [=====================>........] - ETA: 0s - loss: 0.5892 - root_mean_squared_error: 0.7676\n",
      "46/46 [==============================] - 0s 6ms/step - loss: 0.5849 - root_mean_squared_error: 0.7648 - val_loss: 0.5512 - val_root_mean_squared_error: 0.7424\n",
      "\n",
      " 1/12 [=>............................] - ETA: 0s - loss: 0.5001 - root_mean_squared_error: 0.7071\n",
      "12/12 [==============================] - 0s 5ms/step - loss: 0.5512 - root_mean_squared_error: 0.7424\n",
      "\n",
      " 62%|▋| 5/8 [01:39<00:57, 19.03s/trial, best loss: 0.7482414245605469INFO:tensorflow:Assets written to: C:\\Users\\Pawan\\AppData\\Local\\Temp\\tmp_ygxu3vt\\model\\data\\model\\assets\n"
     ]
    },
    {
     "name": "stderr",
     "output_type": "stream",
     "text": [
      "INFO:tensorflow:Assets written to: C:\\Users\\Pawan\\AppData\\Local\\Temp\\tmp_ygxu3vt\\model\\data\\model\\assets\n",
      "\n"
     ]
    },
    {
     "name": "stdout",
     "output_type": "stream",
     "text": [
      "Epoch 1/3                                                            \n",
      "\n",
      " 1/46 [..............................] - ETA: 36s - loss: 34.8214 - root_mean_squared_error: 5.9010\n",
      "12/46 [======>.......................] - ETA: 0s - loss: 28.4591 - root_mean_squared_error: 5.3347 \n",
      "30/46 [==================>...........] - ETA: 0s - loss: 19.7886 - root_mean_squared_error: 4.4484\n",
      "46/46 [==============================] - 1s 12ms/step - loss: 15.1319 - root_mean_squared_error: 3.8900 - val_loss: 4.5269 - val_root_mean_squared_error: 2.1277\n",
      "\n",
      "Epoch 2/3                                                            \n",
      "\n",
      " 1/46 [..............................] - ETA: 0s - loss: 3.5853 - root_mean_squared_error: 1.8935\n",
      "16/46 [=========>....................] - ETA: 0s - loss: 3.5426 - root_mean_squared_error: 1.8822\n",
      "35/46 [=====================>........] - ETA: 0s - loss: 3.1868 - root_mean_squared_error: 1.7852\n",
      "46/46 [==============================] - 0s 6ms/step - loss: 2.9649 - root_mean_squared_error: 1.7219 - val_loss: 2.4591 - val_root_mean_squared_error: 1.5682\n",
      "\n",
      "Epoch 3/3                                                            \n",
      "\n",
      " 1/46 [..............................] - ETA: 0s - loss: 1.8098 - root_mean_squared_error: 1.3453\n",
      "20/46 [============>.................] - ETA: 0s - loss: 2.4453 - root_mean_squared_error: 1.5638\n",
      "38/46 [=======================>......] - ETA: 0s - loss: 2.1496 - root_mean_squared_error: 1.4661\n",
      "46/46 [==============================] - 0s 6ms/step - loss: 2.0963 - root_mean_squared_error: 1.4479 - val_loss: 2.0545 - val_root_mean_squared_error: 1.4333\n",
      "\n",
      " 1/12 [=>............................] - ETA: 0s - loss: 1.7629 - root_mean_squared_error: 1.3277\n",
      "12/12 [==============================] - 0s 4ms/step - loss: 2.0545 - root_mean_squared_error: 1.4333\n",
      "\n",
      " 75%|▊| 6/8 [01:58<00:38, 19.29s/trial, best loss: 0.7424178123474121INFO:tensorflow:Assets written to: C:\\Users\\Pawan\\AppData\\Local\\Temp\\tmpqrqc2vgy\\model\\data\\model\\assets\n"
     ]
    },
    {
     "name": "stderr",
     "output_type": "stream",
     "text": [
      "INFO:tensorflow:Assets written to: C:\\Users\\Pawan\\AppData\\Local\\Temp\\tmpqrqc2vgy\\model\\data\\model\\assets\n",
      "\n"
     ]
    },
    {
     "name": "stdout",
     "output_type": "stream",
     "text": [
      "Epoch 1/3                                                            \n",
      "\n",
      " 1/46 [..............................] - ETA: 33s - loss: 35.8608 - root_mean_squared_error: 5.9884\n",
      "17/46 [==========>...................] - ETA: 0s - loss: 14.9536 - root_mean_squared_error: 3.8670 \n",
      "37/46 [=======================>......] - ETA: 0s - loss: 9.3627 - root_mean_squared_error: 3.0598 \n",
      "46/46 [==============================] - 1s 12ms/step - loss: 8.1669 - root_mean_squared_error: 2.8578 - val_loss: 1.6998 - val_root_mean_squared_error: 1.3037\n",
      "\n",
      "Epoch 2/3                                                            \n",
      "\n",
      " 1/46 [..............................] - ETA: 0s - loss: 1.6512 - root_mean_squared_error: 1.2850\n",
      "18/46 [==========>...................] - ETA: 0s - loss: 1.7149 - root_mean_squared_error: 1.3095\n",
      "38/46 [=======================>......] - ETA: 0s - loss: 1.4103 - root_mean_squared_error: 1.1876\n",
      "46/46 [==============================] - 0s 5ms/step - loss: 1.3264 - root_mean_squared_error: 1.1517 - val_loss: 0.9044 - val_root_mean_squared_error: 0.9510\n",
      "\n",
      "Epoch 3/3                                                            \n",
      "\n",
      " 1/46 [..............................] - ETA: 0s - loss: 0.8534 - root_mean_squared_error: 0.9238\n",
      "15/46 [========>.....................] - ETA: 0s - loss: 0.7834 - root_mean_squared_error: 0.8851\n",
      "32/46 [===================>..........] - ETA: 0s - loss: 0.7582 - root_mean_squared_error: 0.8708\n",
      "46/46 [==============================] - 0s 5ms/step - loss: 0.7378 - root_mean_squared_error: 0.8590 - val_loss: 0.6690 - val_root_mean_squared_error: 0.8179\n",
      "\n",
      " 1/12 [=>............................] - ETA: 0s - loss: 0.5978 - root_mean_squared_error: 0.7732\n",
      "12/12 [==============================] - 0s 4ms/step - loss: 0.6690 - root_mean_squared_error: 0.8179\n",
      "\n",
      " 88%|▉| 7/8 [02:16<00:18, 18.97s/trial, best loss: 0.7424178123474121INFO:tensorflow:Assets written to: C:\\Users\\Pawan\\AppData\\Local\\Temp\\tmp306otuab\\model\\data\\model\\assets\n"
     ]
    },
    {
     "name": "stderr",
     "output_type": "stream",
     "text": [
      "INFO:tensorflow:Assets written to: C:\\Users\\Pawan\\AppData\\Local\\Temp\\tmp306otuab\\model\\data\\model\\assets\n",
      "\n"
     ]
    },
    {
     "name": "stdout",
     "output_type": "stream",
     "text": [
      "100%|█| 8/8 [02:33<00:00, 19.19s/trial, best loss: 0.7424178123474121\n",
      "INFO:tensorflow:Assets written to: C:\\Users\\Pawan\\AppData\\Local\\Temp\\tmpcqiz6cwi\\model\\data\\model\\assets\n"
     ]
    },
    {
     "name": "stderr",
     "output_type": "stream",
     "text": [
      "INFO:tensorflow:Assets written to: C:\\Users\\Pawan\\AppData\\Local\\Temp\\tmpcqiz6cwi\\model\\data\\model\\assets\n",
      "\n"
     ]
    },
    {
     "name": "stdout",
     "output_type": "stream",
     "text": [
      "Best parameters: {'lr': 0.06867219556438399, 'momentum': 0.4113604882502153}\n",
      "Best eval rmse: 0.7424178123474121\n"
     ]
    }
   ],
   "source": [
    "# Create a new MLflow Experiment\n",
    "mlflow.set_experiment(\"MLFLOW - Compare runs, choose a model, and deploy it to a REST API\")\n",
    "\n",
    "with mlflow.start_run():\n",
    "    # Conduct the hyperparameter search using Hyperopt\n",
    "    trials = Trials()\n",
    "    best = fmin(\n",
    "        fn=objective,\n",
    "        space=space,\n",
    "        algo=tpe.suggest,\n",
    "        max_evals=8,\n",
    "        trials=trials,\n",
    "    )\n",
    "\n",
    "    # Fetch the details of the best run\n",
    "    best_run = sorted(trials.results, key=lambda x: x[\"loss\"])[0]\n",
    "\n",
    "    # Log the best parameters, loss, and model\n",
    "    mlflow.log_params(best)\n",
    "    mlflow.log_metric(\"eval_rmse\", best_run[\"loss\"])\n",
    "    mlflow.tensorflow.log_model(best_run[\"model\"], \"model\", signature=signature)\n",
    "\n",
    "    # Print out the best parameters and corresponding loss\n",
    "    print(f\"Best parameters: {best}\")\n",
    "    print(f\"Best eval rmse: {best_run['loss']}\")"
   ]
  },
  {
   "cell_type": "code",
   "execution_count": 9,
   "id": "28444b98-2e09-44a7-997b-ee906282344b",
   "metadata": {},
   "outputs": [
    {
     "name": "stderr",
     "output_type": "stream",
     "text": [
      "c:\\python3.8\\lib\\site-packages\\tqdm\\auto.py:21: TqdmWarning: IProgress not found. Please update jupyter and ipywidgets. See https://ipywidgets.readthedocs.io/en/stable/user_install.html\n",
      "  from .autonotebook import tqdm as notebook_tqdm\n",
      "Downloading artifacts: 100%|█████████| 16/16 [00:02<00:00,  7.67it/s]\n"
     ]
    },
    {
     "name": "stdout",
     "output_type": "stream",
     "text": [
      "1/1 [==============================] - 0s 301ms/step\n",
      "[[5.9544163]]\n"
     ]
    }
   ],
   "source": [
    "import mlflow\n",
    "import pandas as pd\n",
    "\n",
    "# Load model as a PyFuncModel.\n",
    "logged_model = 'runs:/4a59d74901e04d8c909d2233628a4b0e/model'\n",
    "loaded_model = mlflow.pyfunc.load_model(logged_model)\n",
    "\n",
    "# Define the column names\n",
    "columns = [\"fixed acidity\", \"volatile acidity\", \"citric acid\", \"residual sugar\", \"chlorides\",\n",
    "           \"free sulfur dioxide\", \"total sulfur dioxide\", \"density\", \"pH\", \"sulphates\", \"alcohol\"]\n",
    "\n",
    "# Create the data as a list of lists (each inner list is a row)\n",
    "data = [[7, 0.27, 0.36, 20.7, 0.045, 45, 170, 1.001, 3, 0.45, 8.8]]\n",
    "\n",
    "# Create the DataFrame\n",
    "df = pd.DataFrame(data, columns=columns)\n",
    "\n",
    "# Predict using the loaded model\n",
    "predictions = loaded_model.predict(df)\n",
    "\n",
    "print(predictions)"
   ]
  },
  {
   "cell_type": "code",
   "execution_count": null,
   "id": "52956d4b-390c-4cb2-81f0-4a244c058517",
   "metadata": {},
   "outputs": [],
   "source": []
  }
 ],
 "metadata": {
  "kernelspec": {
   "display_name": "Python 3 (ipykernel)",
   "language": "python",
   "name": "python3"
  },
  "language_info": {
   "codemirror_mode": {
    "name": "ipython",
    "version": 3
   },
   "file_extension": ".py",
   "mimetype": "text/x-python",
   "name": "python",
   "nbconvert_exporter": "python",
   "pygments_lexer": "ipython3",
   "version": "3.8.10"
  }
 },
 "nbformat": 4,
 "nbformat_minor": 5
}
